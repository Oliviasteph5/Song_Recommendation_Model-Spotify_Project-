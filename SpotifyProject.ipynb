{
 "cells": [
  {
   "cell_type": "code",
   "execution_count": 1,
   "id": "2eae6958-4f46-4403-b20d-0bca52fc6669",
   "metadata": {
    "tags": []
   },
   "outputs": [],
   "source": [
    "# 1. import libraries\n",
    "from bs4 import BeautifulSoup\n",
    "import requests\n",
    "import pandas as pd"
   ]
  },
  {
   "cell_type": "code",
   "execution_count": 2,
   "id": "4b578bf8-8984-45d7-a0e7-0ca7bc456243",
   "metadata": {
    "tags": []
   },
   "outputs": [],
   "source": [
    "# 2. find url and store it in a variable\n",
    "url = \"https://www.billboard.com/charts/hot-100/\"\n",
    "response = requests.get(url)\n",
    "response.status_code\n",
    "soup = BeautifulSoup(response.content)"
   ]
  },
  {
   "cell_type": "code",
   "execution_count": 3,
   "id": "4ce2425b-fdf5-498f-8d20-e1c3e378dd7d",
   "metadata": {
    "tags": []
   },
   "outputs": [],
   "source": [
    "# 3. download html with a get request \n",
    "response = requests.get(url)"
   ]
  },
  {
   "cell_type": "code",
   "execution_count": 4,
   "id": "bc97e4dd-c116-4c35-97be-0f258e065f40",
   "metadata": {
    "tags": []
   },
   "outputs": [
    {
     "data": {
      "text/plain": [
       "200"
      ]
     },
     "execution_count": 4,
     "metadata": {},
     "output_type": "execute_result"
    }
   ],
   "source": [
    "response.status_code # 200 status code means OK!"
   ]
  },
  {
   "cell_type": "code",
   "execution_count": 5,
   "id": "c191ee55-b651-4a69-9c41-dde8f04cdb04",
   "metadata": {
    "tags": []
   },
   "outputs": [],
   "source": [
    "# 4.1. parse html (create the 'soup')\n",
    "#soup = BeautifulSoup(response.content, \"html.parser\")\n",
    "# 4.2. check that the html code looks like it should\n",
    "#print(soup.prettify())"
   ]
  },
  {
   "cell_type": "code",
   "execution_count": 6,
   "id": "ebd463a6-9c5d-4623-8e96-3697f7e71d30",
   "metadata": {
    "tags": []
   },
   "outputs": [
    {
     "data": {
      "text/plain": [
       "['Jack Harlow',\n",
       " 'Teddy Swims',\n",
       " 'Benson Boone',\n",
       " 'Taylor Swift',\n",
       " 'SZA',\n",
       " 'Zach Bryan Featuring Kacey Musgraves',\n",
       " 'Tate McRae',\n",
       " 'Luke Combs',\n",
       " 'Doja Cat',\n",
       " 'Miley Cyrus',\n",
       " 'Noah Kahan',\n",
       " 'Tyla',\n",
       " 'Megan Thee Stallion',\n",
       " '21 Savage',\n",
       " 'Morgan Wallen',\n",
       " 'Morgan Wallen',\n",
       " 'Doja Cat',\n",
       " 'Taylor Swift',\n",
       " 'Flo Milli',\n",
       " 'Billie Eilish',\n",
       " 'Ariana Grande',\n",
       " 'Dua Lipa',\n",
       " 'Justin Timberlake',\n",
       " 'Warren Zeiders',\n",
       " 'Xavi',\n",
       " 'Luke Combs',\n",
       " 'Nicki Minaj Featuring Lil Uzi Vert',\n",
       " 'Muni Long',\n",
       " 'Olivia Rodrigo',\n",
       " 'Cody Johnson',\n",
       " 'Chris Stapleton',\n",
       " 'Drake Featuring Sexyy Red & SZA',\n",
       " 'Victoria Monet',\n",
       " 'Tate McRae',\n",
       " 'Jessie Murph & Jelly Roll',\n",
       " 'Sabrina Carpenter',\n",
       " 'Dua Lipa',\n",
       " 'Don Toliver',\n",
       " 'Jelly Roll',\n",
       " 'Jelly Roll With Lainey Wilson',\n",
       " 'Gunna',\n",
       " 'Tracy Chapman',\n",
       " 'Paul Russell',\n",
       " 'Nate Smith',\n",
       " 'Usher, Summer Walker & 21 Savage',\n",
       " 'HARDY',\n",
       " 'Drake Featuring J. Cole',\n",
       " 'JID Featuring 21 Savage & Baby Tate',\n",
       " 'Kenya Grace',\n",
       " 'Mitski',\n",
       " 'Morgan Wallen',\n",
       " 'Ice Spice',\n",
       " 'Kali Uchis & Peso Pluma',\n",
       " 'Nicki Minaj',\n",
       " 'Parker McCollum',\n",
       " 'Xavi',\n",
       " 'The Weeknd, Jennie & Lily Rose Depp',\n",
       " '21 Savage, Travis Scott & Metro Boomin',\n",
       " 'Sophie Ellis-Bextor',\n",
       " 'YG Marley',\n",
       " '4Batz',\n",
       " 'Billy Joel',\n",
       " 'Morgan Wallen Featuring Eric Church',\n",
       " 'Rich Amiri',\n",
       " 'Drake',\n",
       " 'Riley Green Featuring Luke Combs',\n",
       " 'Fuerza Regida & Marshmello',\n",
       " 'BossMan Dlow',\n",
       " 'Travis Scott Featuring Playboi Carti',\n",
       " 'Peso Pluma & Anitta',\n",
       " 'Lil Tecca',\n",
       " 'Drake Featuring Yeat',\n",
       " 'Kane Brown',\n",
       " 'Chayce Beckham',\n",
       " '21 Savage & Summer Walker',\n",
       " '310babii',\n",
       " 'Bad Bunny',\n",
       " 'Thomas Rhett Featuring Morgan Wallen',\n",
       " 'Carly Pearce Featuring Chris Stapleton',\n",
       " 'Good Neighbours',\n",
       " 'Jung Kook',\n",
       " 'Bad Bunny & Feid',\n",
       " 'BigXthaPlug',\n",
       " 'Zach Bryan',\n",
       " 'Travis Scott',\n",
       " 'Dylan Gossett',\n",
       " 'Lil Yachty',\n",
       " '21 Savage',\n",
       " '21 Savage & Doja Cat',\n",
       " '21 Savage & Brent Faiyaz',\n",
       " 'Calle 24 x Chino Pacas x Fuerza Regida',\n",
       " 'The Red Clay Strays',\n",
       " 'Junior H',\n",
       " 'Chris Brown Featuring Davido & Lojay',\n",
       " 'Lainey Wilson',\n",
       " 'Offset & Don Toliver',\n",
       " 'Noah Kahan With Hozier',\n",
       " 'Michael Marcagi',\n",
       " 'Oscar Ortiz X Edgardo Nunez',\n",
       " 'Bailey Zimmerman']"
      ]
     },
     "execution_count": 6,
     "metadata": {},
     "output_type": "execute_result"
    }
   ],
   "source": [
    "#appending hot100songs and their artists into 2 seperate lists\n",
    "hot100songs = []\n",
    "artists = []\n",
    "for title in soup.select(\"h3.c-title.a-no-trucate\"):\n",
    "    hot100songs.append(title.get_text(strip=True))\n",
    "    \n",
    "for artist in soup.select(\"span.c-label.a-no-trucate\"):\n",
    "    artists.append(artist.get_text(strip=True))\n",
    "artists   "
   ]
  },
  {
   "cell_type": "code",
   "execution_count": 7,
   "id": "8fadbdaf-fb73-442f-aa72-075f9bb285ae",
   "metadata": {
    "tags": []
   },
   "outputs": [
    {
     "data": {
      "text/html": [
       "<div>\n",
       "<style scoped>\n",
       "    .dataframe tbody tr th:only-of-type {\n",
       "        vertical-align: middle;\n",
       "    }\n",
       "\n",
       "    .dataframe tbody tr th {\n",
       "        vertical-align: top;\n",
       "    }\n",
       "\n",
       "    .dataframe thead th {\n",
       "        text-align: right;\n",
       "    }\n",
       "</style>\n",
       "<table border=\"1\" class=\"dataframe\">\n",
       "  <thead>\n",
       "    <tr style=\"text-align: right;\">\n",
       "      <th></th>\n",
       "      <th>SONG</th>\n",
       "      <th>ARTIST</th>\n",
       "    </tr>\n",
       "  </thead>\n",
       "  <tbody>\n",
       "    <tr>\n",
       "      <th>0</th>\n",
       "      <td>Lovin On Me</td>\n",
       "      <td>Jack Harlow</td>\n",
       "    </tr>\n",
       "    <tr>\n",
       "      <th>1</th>\n",
       "      <td>Lose Control</td>\n",
       "      <td>Teddy Swims</td>\n",
       "    </tr>\n",
       "    <tr>\n",
       "      <th>2</th>\n",
       "      <td>Beautiful Things</td>\n",
       "      <td>Benson Boone</td>\n",
       "    </tr>\n",
       "    <tr>\n",
       "      <th>3</th>\n",
       "      <td>Cruel Summer</td>\n",
       "      <td>Taylor Swift</td>\n",
       "    </tr>\n",
       "    <tr>\n",
       "      <th>4</th>\n",
       "      <td>Snooze</td>\n",
       "      <td>SZA</td>\n",
       "    </tr>\n",
       "    <tr>\n",
       "      <th>...</th>\n",
       "      <td>...</td>\n",
       "      <td>...</td>\n",
       "    </tr>\n",
       "    <tr>\n",
       "      <th>95</th>\n",
       "      <td>Worth It</td>\n",
       "      <td>Offset &amp; Don Toliver</td>\n",
       "    </tr>\n",
       "    <tr>\n",
       "      <th>96</th>\n",
       "      <td>Northern Attitude</td>\n",
       "      <td>Noah Kahan With Hozier</td>\n",
       "    </tr>\n",
       "    <tr>\n",
       "      <th>97</th>\n",
       "      <td>Scared To Start</td>\n",
       "      <td>Michael Marcagi</td>\n",
       "    </tr>\n",
       "    <tr>\n",
       "      <th>98</th>\n",
       "      <td>First Love</td>\n",
       "      <td>Oscar Ortiz X Edgardo Nunez</td>\n",
       "    </tr>\n",
       "    <tr>\n",
       "      <th>99</th>\n",
       "      <td>Where It Ends</td>\n",
       "      <td>Bailey Zimmerman</td>\n",
       "    </tr>\n",
       "  </tbody>\n",
       "</table>\n",
       "<p>100 rows × 2 columns</p>\n",
       "</div>"
      ],
      "text/plain": [
       "                 SONG                       ARTIST\n",
       "0         Lovin On Me                  Jack Harlow\n",
       "1        Lose Control                  Teddy Swims\n",
       "2    Beautiful Things                 Benson Boone\n",
       "3        Cruel Summer                 Taylor Swift\n",
       "4              Snooze                          SZA\n",
       "..                ...                          ...\n",
       "95           Worth It         Offset & Don Toliver\n",
       "96  Northern Attitude       Noah Kahan With Hozier\n",
       "97    Scared To Start              Michael Marcagi\n",
       "98         First Love  Oscar Ortiz X Edgardo Nunez\n",
       "99      Where It Ends             Bailey Zimmerman\n",
       "\n",
       "[100 rows x 2 columns]"
      ]
     },
     "execution_count": 7,
     "metadata": {},
     "output_type": "execute_result"
    }
   ],
   "source": [
    "#creating a DF from dictionary of songs and artists\n",
    "\n",
    "hot100_df = pd.DataFrame({\n",
    "    'SONG': hot100songs,\n",
    "    'ARTIST': artists\n",
    "})\n",
    "hot100_df"
   ]
  },
  {
   "cell_type": "code",
   "execution_count": 8,
   "id": "65f56c6c-2f57-4a1d-b922-7efda16567e4",
   "metadata": {
    "tags": []
   },
   "outputs": [],
   "source": [
    "#Export to csv\n",
    "hot100_df.to_csv(\"hot100_df.csv\", index=False)"
   ]
  },
  {
   "cell_type": "code",
   "execution_count": 9,
   "id": "4bcf6e70-eed6-4544-afa9-b7c0d7706e20",
   "metadata": {
    "tags": []
   },
   "outputs": [],
   "source": [
    "import pandas as pd "
   ]
  },
  {
   "cell_type": "code",
   "execution_count": 10,
   "id": "2c9a3930-04e0-4d04-9d66-2bac05bdb710",
   "metadata": {
    "tags": []
   },
   "outputs": [
    {
     "data": {
      "text/html": [
       "<div>\n",
       "<style scoped>\n",
       "    .dataframe tbody tr th:only-of-type {\n",
       "        vertical-align: middle;\n",
       "    }\n",
       "\n",
       "    .dataframe tbody tr th {\n",
       "        vertical-align: top;\n",
       "    }\n",
       "\n",
       "    .dataframe thead th {\n",
       "        text-align: right;\n",
       "    }\n",
       "</style>\n",
       "<table border=\"1\" class=\"dataframe\">\n",
       "  <thead>\n",
       "    <tr style=\"text-align: right;\">\n",
       "      <th></th>\n",
       "      <th>SONG</th>\n",
       "      <th>ARTIST</th>\n",
       "    </tr>\n",
       "  </thead>\n",
       "  <tbody>\n",
       "    <tr>\n",
       "      <th>0</th>\n",
       "      <td>Lovin On Me</td>\n",
       "      <td>Jack Harlow</td>\n",
       "    </tr>\n",
       "    <tr>\n",
       "      <th>1</th>\n",
       "      <td>Lose Control</td>\n",
       "      <td>Teddy Swims</td>\n",
       "    </tr>\n",
       "    <tr>\n",
       "      <th>2</th>\n",
       "      <td>Beautiful Things</td>\n",
       "      <td>Benson Boone</td>\n",
       "    </tr>\n",
       "    <tr>\n",
       "      <th>3</th>\n",
       "      <td>Cruel Summer</td>\n",
       "      <td>Taylor Swift</td>\n",
       "    </tr>\n",
       "    <tr>\n",
       "      <th>4</th>\n",
       "      <td>Snooze</td>\n",
       "      <td>SZA</td>\n",
       "    </tr>\n",
       "    <tr>\n",
       "      <th>...</th>\n",
       "      <td>...</td>\n",
       "      <td>...</td>\n",
       "    </tr>\n",
       "    <tr>\n",
       "      <th>95</th>\n",
       "      <td>Worth It</td>\n",
       "      <td>Offset &amp; Don Toliver</td>\n",
       "    </tr>\n",
       "    <tr>\n",
       "      <th>96</th>\n",
       "      <td>Northern Attitude</td>\n",
       "      <td>Noah Kahan With Hozier</td>\n",
       "    </tr>\n",
       "    <tr>\n",
       "      <th>97</th>\n",
       "      <td>Scared To Start</td>\n",
       "      <td>Michael Marcagi</td>\n",
       "    </tr>\n",
       "    <tr>\n",
       "      <th>98</th>\n",
       "      <td>First Love</td>\n",
       "      <td>Oscar Ortiz X Edgardo Nunez</td>\n",
       "    </tr>\n",
       "    <tr>\n",
       "      <th>99</th>\n",
       "      <td>Where It Ends</td>\n",
       "      <td>Bailey Zimmerman</td>\n",
       "    </tr>\n",
       "  </tbody>\n",
       "</table>\n",
       "<p>100 rows × 2 columns</p>\n",
       "</div>"
      ],
      "text/plain": [
       "                 SONG                       ARTIST\n",
       "0         Lovin On Me                  Jack Harlow\n",
       "1        Lose Control                  Teddy Swims\n",
       "2    Beautiful Things                 Benson Boone\n",
       "3        Cruel Summer                 Taylor Swift\n",
       "4              Snooze                          SZA\n",
       "..                ...                          ...\n",
       "95           Worth It         Offset & Don Toliver\n",
       "96  Northern Attitude       Noah Kahan With Hozier\n",
       "97    Scared To Start              Michael Marcagi\n",
       "98         First Love  Oscar Ortiz X Edgardo Nunez\n",
       "99      Where It Ends             Bailey Zimmerman\n",
       "\n",
       "[100 rows x 2 columns]"
      ]
     },
     "execution_count": 10,
     "metadata": {},
     "output_type": "execute_result"
    }
   ],
   "source": [
    "hot100_df = pd.read_csv('hot100_df.csv')\n",
    "hot100_df"
   ]
  },
  {
   "cell_type": "code",
   "execution_count": 11,
   "id": "be72153e-96cd-4a64-a9ee-af8dc3d6bf29",
   "metadata": {
    "tags": []
   },
   "outputs": [
    {
     "name": "stdout",
     "output_type": "stream",
     "text": [
      "Requirement already satisfied: fuzzywuzzy in c:\\users\\leih-pool\\anaconda3\\lib\\site-packages (0.18.0)\n"
     ]
    },
    {
     "name": "stderr",
     "output_type": "stream",
     "text": [
      "C:\\Users\\Leih-Pool\\anaconda3\\Lib\\site-packages\\fuzzywuzzy\\fuzz.py:11: UserWarning: Using slow pure-python SequenceMatcher. Install python-Levenshtein to remove this warning\n",
      "  warnings.warn('Using slow pure-python SequenceMatcher. Install python-Levenshtein to remove this warning')\n"
     ]
    }
   ],
   "source": [
    "# 1. import libraries\n",
    "from bs4 import BeautifulSoup\n",
    "import requests\n",
    "import pandas as pd\n",
    "!pip install fuzzywuzzy\n",
    "from fuzzywuzzy import fuzz, process"
   ]
  },
  {
   "cell_type": "code",
   "execution_count": 12,
   "id": "661259be-1ac8-43c2-8f2a-f30f6e5657e6",
   "metadata": {
    "tags": []
   },
   "outputs": [],
   "source": [
    "# 2. find url and store it in a variable\n",
    "url = \"https://www.officialcharts.com/charts/official-hip-hop-and-r-and-b-singles-chart/\"\n",
    "response = requests.get(url)\n",
    "response.status_code\n",
    "soup = BeautifulSoup(response.content)"
   ]
  },
  {
   "cell_type": "code",
   "execution_count": 13,
   "id": "909b242a-cf3c-4321-b98d-b6a8c8064a94",
   "metadata": {
    "tags": []
   },
   "outputs": [
    {
     "data": {
      "text/plain": [
       "200"
      ]
     },
     "execution_count": 13,
     "metadata": {},
     "output_type": "execute_result"
    }
   ],
   "source": [
    "response.status_code # 200 status code means OK!"
   ]
  },
  {
   "cell_type": "code",
   "execution_count": 14,
   "id": "441170ec-9e2f-43ad-a464-143c69a8133f",
   "metadata": {
    "tags": []
   },
   "outputs": [
    {
     "data": {
      "text/plain": [
       "['LOVIN ON ME',\n",
       " 'WATER',\n",
       " 'NEVER LOSE ME',\n",
       " 'REDRUM',\n",
       " 'RICH BABY DADDY',\n",
       " 'SPRINTER',\n",
       " 'PAINT THE TOWN RED',\n",
       " 'TOXIC',\n",
       " 'ANGEL NUMBERS/TEN TOES',\n",
       " 'RUNAWAY',\n",
       " 'HISS',\n",
       " 'SNOOZE',\n",
       " 'CALM DOWN',\n",
       " 'SAVE YOUR TEARS',\n",
       " 'ONE DANCE',\n",
       " 'EAGLE',\n",
       " 'GREY',\n",
       " 'BLINDING LIGHTS',\n",
       " 'GAS ME UP (DILIGENT)',\n",
       " 'DIE FOR YOU',\n",
       " 'OVERSEAS',\n",
       " 'PINK + WHITE',\n",
       " 'LOSE YOURSELF',\n",
       " 'WITHOUT ME',\n",
       " 'SURROUND SOUND',\n",
       " 'REFATHER STRETCH MY HANDS PT 1',\n",
       " 'LOVE THE WAY YOU LIE',\n",
       " 'KILL BILL',\n",
       " 'AGORA HILLS',\n",
       " 'THE REAL SLIM SHADY',\n",
       " 'NO ROLE MODELZ',\n",
       " 'PRACTICE',\n",
       " 'NewBANDIT',\n",
       " 'REMY EYES',\n",
       " 'HEARTLESS',\n",
       " 'RESUNFLOWER',\n",
       " 'INCREDIBLE SAUCE',\n",
       " 'FUKUMEAN',\n",
       " 'RESURE THING',\n",
       " 'REFLASHING LIGHTS']"
      ]
     },
     "execution_count": 14,
     "metadata": {},
     "output_type": "execute_result"
    }
   ],
   "source": [
    "#appending trending songs and their artists into 2 seperate lists\n",
    "songs = []\n",
    "artists = []\n",
    "for artist in soup.select(\"a.chart-artist\"):\n",
    "    artists.append(artist.get_text())\n",
    "    \n",
    "for song in soup.select(\"a.chart-name\"):\n",
    "    songs.append(song.get_text())\n",
    "songs"
   ]
  },
  {
   "cell_type": "code",
   "execution_count": 15,
   "id": "e0463c29-594a-45a7-9fba-cf013283ce6c",
   "metadata": {
    "tags": []
   },
   "outputs": [
    {
     "data": {
      "text/html": [
       "<div>\n",
       "<style scoped>\n",
       "    .dataframe tbody tr th:only-of-type {\n",
       "        vertical-align: middle;\n",
       "    }\n",
       "\n",
       "    .dataframe tbody tr th {\n",
       "        vertical-align: top;\n",
       "    }\n",
       "\n",
       "    .dataframe thead th {\n",
       "        text-align: right;\n",
       "    }\n",
       "</style>\n",
       "<table border=\"1\" class=\"dataframe\">\n",
       "  <thead>\n",
       "    <tr style=\"text-align: right;\">\n",
       "      <th></th>\n",
       "      <th>SONG</th>\n",
       "      <th>ARTIST</th>\n",
       "    </tr>\n",
       "  </thead>\n",
       "  <tbody>\n",
       "    <tr>\n",
       "      <th>0</th>\n",
       "      <td>LOVIN ON ME</td>\n",
       "      <td>JACK HARLOW</td>\n",
       "    </tr>\n",
       "    <tr>\n",
       "      <th>1</th>\n",
       "      <td>WATER</td>\n",
       "      <td>TYLA</td>\n",
       "    </tr>\n",
       "    <tr>\n",
       "      <th>2</th>\n",
       "      <td>NEVER LOSE ME</td>\n",
       "      <td>FLO MILLI</td>\n",
       "    </tr>\n",
       "    <tr>\n",
       "      <th>3</th>\n",
       "      <td>REDRUM</td>\n",
       "      <td>21 SAVAGE</td>\n",
       "    </tr>\n",
       "    <tr>\n",
       "      <th>4</th>\n",
       "      <td>RICH BABY DADDY</td>\n",
       "      <td>DRAKE FT SEXYY RED &amp; SZA</td>\n",
       "    </tr>\n",
       "    <tr>\n",
       "      <th>5</th>\n",
       "      <td>SPRINTER</td>\n",
       "      <td>DAVE &amp; CENTRAL CEE</td>\n",
       "    </tr>\n",
       "    <tr>\n",
       "      <th>6</th>\n",
       "      <td>PAINT THE TOWN RED</td>\n",
       "      <td>DOJA CAT</td>\n",
       "    </tr>\n",
       "    <tr>\n",
       "      <th>7</th>\n",
       "      <td>TOXIC</td>\n",
       "      <td>SONGER</td>\n",
       "    </tr>\n",
       "    <tr>\n",
       "      <th>8</th>\n",
       "      <td>ANGEL NUMBERS/TEN TOES</td>\n",
       "      <td>CHRIS BROWN</td>\n",
       "    </tr>\n",
       "    <tr>\n",
       "      <th>9</th>\n",
       "      <td>RUNAWAY</td>\n",
       "      <td>KANYE WEST FT PUSHA T</td>\n",
       "    </tr>\n",
       "    <tr>\n",
       "      <th>10</th>\n",
       "      <td>HISS</td>\n",
       "      <td>MEGAN THEE STALLION</td>\n",
       "    </tr>\n",
       "    <tr>\n",
       "      <th>11</th>\n",
       "      <td>SNOOZE</td>\n",
       "      <td>SZA</td>\n",
       "    </tr>\n",
       "    <tr>\n",
       "      <th>12</th>\n",
       "      <td>CALM DOWN</td>\n",
       "      <td>REMA</td>\n",
       "    </tr>\n",
       "    <tr>\n",
       "      <th>13</th>\n",
       "      <td>SAVE YOUR TEARS</td>\n",
       "      <td>WEEKND</td>\n",
       "    </tr>\n",
       "    <tr>\n",
       "      <th>14</th>\n",
       "      <td>ONE DANCE</td>\n",
       "      <td>DRAKE FT WIZKID &amp; KYLA</td>\n",
       "    </tr>\n",
       "    <tr>\n",
       "      <th>15</th>\n",
       "      <td>EAGLE</td>\n",
       "      <td>D-BLOCK EUROPE &amp; NOIZY</td>\n",
       "    </tr>\n",
       "    <tr>\n",
       "      <th>16</th>\n",
       "      <td>GREY</td>\n",
       "      <td>YUNG FILLY</td>\n",
       "    </tr>\n",
       "    <tr>\n",
       "      <th>17</th>\n",
       "      <td>BLINDING LIGHTS</td>\n",
       "      <td>WEEKND</td>\n",
       "    </tr>\n",
       "    <tr>\n",
       "      <th>18</th>\n",
       "      <td>GAS ME UP (DILIGENT)</td>\n",
       "      <td>SKEPTA</td>\n",
       "    </tr>\n",
       "    <tr>\n",
       "      <th>19</th>\n",
       "      <td>DIE FOR YOU</td>\n",
       "      <td>WEEKND</td>\n",
       "    </tr>\n",
       "    <tr>\n",
       "      <th>20</th>\n",
       "      <td>OVERSEAS</td>\n",
       "      <td>D-BLOCK EUROPE FT CENTRAL CEE</td>\n",
       "    </tr>\n",
       "    <tr>\n",
       "      <th>21</th>\n",
       "      <td>PINK + WHITE</td>\n",
       "      <td>FRANK OCEAN</td>\n",
       "    </tr>\n",
       "    <tr>\n",
       "      <th>22</th>\n",
       "      <td>LOSE YOURSELF</td>\n",
       "      <td>EMINEM</td>\n",
       "    </tr>\n",
       "    <tr>\n",
       "      <th>23</th>\n",
       "      <td>WITHOUT ME</td>\n",
       "      <td>EMINEM</td>\n",
       "    </tr>\n",
       "    <tr>\n",
       "      <th>24</th>\n",
       "      <td>SURROUND SOUND</td>\n",
       "      <td>JID FT 21 SAVAGE &amp; BABY TATE</td>\n",
       "    </tr>\n",
       "    <tr>\n",
       "      <th>25</th>\n",
       "      <td>REFATHER STRETCH MY HANDS PT 1</td>\n",
       "      <td>KANYE WEST</td>\n",
       "    </tr>\n",
       "    <tr>\n",
       "      <th>26</th>\n",
       "      <td>LOVE THE WAY YOU LIE</td>\n",
       "      <td>EMINEM FT RIHANNA</td>\n",
       "    </tr>\n",
       "    <tr>\n",
       "      <th>27</th>\n",
       "      <td>KILL BILL</td>\n",
       "      <td>SZA</td>\n",
       "    </tr>\n",
       "    <tr>\n",
       "      <th>28</th>\n",
       "      <td>AGORA HILLS</td>\n",
       "      <td>DOJA CAT</td>\n",
       "    </tr>\n",
       "    <tr>\n",
       "      <th>29</th>\n",
       "      <td>THE REAL SLIM SHADY</td>\n",
       "      <td>EMINEM</td>\n",
       "    </tr>\n",
       "    <tr>\n",
       "      <th>30</th>\n",
       "      <td>NO ROLE MODELZ</td>\n",
       "      <td>J COLE</td>\n",
       "    </tr>\n",
       "    <tr>\n",
       "      <th>31</th>\n",
       "      <td>PRACTICE</td>\n",
       "      <td>DRAKE</td>\n",
       "    </tr>\n",
       "    <tr>\n",
       "      <th>32</th>\n",
       "      <td>NewBANDIT</td>\n",
       "      <td>DON TOLIVER</td>\n",
       "    </tr>\n",
       "    <tr>\n",
       "      <th>33</th>\n",
       "      <td>REMY EYES</td>\n",
       "      <td>TRAVIS SCOTT</td>\n",
       "    </tr>\n",
       "    <tr>\n",
       "      <th>34</th>\n",
       "      <td>HEARTLESS</td>\n",
       "      <td>KANYE WEST</td>\n",
       "    </tr>\n",
       "    <tr>\n",
       "      <th>35</th>\n",
       "      <td>RESUNFLOWER</td>\n",
       "      <td>POST MALONE FT SWAE LEE</td>\n",
       "    </tr>\n",
       "    <tr>\n",
       "      <th>36</th>\n",
       "      <td>INCREDIBLE SAUCE</td>\n",
       "      <td>GIGGS FT DAVE</td>\n",
       "    </tr>\n",
       "    <tr>\n",
       "      <th>37</th>\n",
       "      <td>FUKUMEAN</td>\n",
       "      <td>GUNNA</td>\n",
       "    </tr>\n",
       "    <tr>\n",
       "      <th>38</th>\n",
       "      <td>RESURE THING</td>\n",
       "      <td>MIGUEL</td>\n",
       "    </tr>\n",
       "    <tr>\n",
       "      <th>39</th>\n",
       "      <td>REFLASHING LIGHTS</td>\n",
       "      <td>KANYE WEST FT DWELE</td>\n",
       "    </tr>\n",
       "  </tbody>\n",
       "</table>\n",
       "</div>"
      ],
      "text/plain": [
       "                              SONG                         ARTIST\n",
       "0                      LOVIN ON ME                    JACK HARLOW\n",
       "1                            WATER                           TYLA\n",
       "2                    NEVER LOSE ME                      FLO MILLI\n",
       "3                           REDRUM                      21 SAVAGE\n",
       "4                  RICH BABY DADDY       DRAKE FT SEXYY RED & SZA\n",
       "5                         SPRINTER             DAVE & CENTRAL CEE\n",
       "6               PAINT THE TOWN RED                       DOJA CAT\n",
       "7                            TOXIC                         SONGER\n",
       "8           ANGEL NUMBERS/TEN TOES                    CHRIS BROWN\n",
       "9                          RUNAWAY          KANYE WEST FT PUSHA T\n",
       "10                            HISS            MEGAN THEE STALLION\n",
       "11                          SNOOZE                            SZA\n",
       "12                       CALM DOWN                           REMA\n",
       "13                 SAVE YOUR TEARS                         WEEKND\n",
       "14                       ONE DANCE         DRAKE FT WIZKID & KYLA\n",
       "15                           EAGLE         D-BLOCK EUROPE & NOIZY\n",
       "16                            GREY                     YUNG FILLY\n",
       "17                 BLINDING LIGHTS                         WEEKND\n",
       "18            GAS ME UP (DILIGENT)                         SKEPTA\n",
       "19                     DIE FOR YOU                         WEEKND\n",
       "20                        OVERSEAS  D-BLOCK EUROPE FT CENTRAL CEE\n",
       "21                    PINK + WHITE                    FRANK OCEAN\n",
       "22                   LOSE YOURSELF                         EMINEM\n",
       "23                      WITHOUT ME                         EMINEM\n",
       "24                  SURROUND SOUND   JID FT 21 SAVAGE & BABY TATE\n",
       "25  REFATHER STRETCH MY HANDS PT 1                     KANYE WEST\n",
       "26            LOVE THE WAY YOU LIE              EMINEM FT RIHANNA\n",
       "27                       KILL BILL                            SZA\n",
       "28                     AGORA HILLS                       DOJA CAT\n",
       "29             THE REAL SLIM SHADY                         EMINEM\n",
       "30                  NO ROLE MODELZ                         J COLE\n",
       "31                        PRACTICE                          DRAKE\n",
       "32                       NewBANDIT                    DON TOLIVER\n",
       "33                       REMY EYES                   TRAVIS SCOTT\n",
       "34                       HEARTLESS                     KANYE WEST\n",
       "35                     RESUNFLOWER        POST MALONE FT SWAE LEE\n",
       "36                INCREDIBLE SAUCE                  GIGGS FT DAVE\n",
       "37                        FUKUMEAN                          GUNNA\n",
       "38                    RESURE THING                         MIGUEL\n",
       "39               REFLASHING LIGHTS            KANYE WEST FT DWELE"
      ]
     },
     "execution_count": 15,
     "metadata": {},
     "output_type": "execute_result"
    }
   ],
   "source": [
    "#creating a DF from dictionary of songs and artists\n",
    "\n",
    "fav_df = pd.DataFrame({\n",
    "    'SONG': songs,\n",
    "    'ARTIST': artists\n",
    "})\n",
    "fav_df"
   ]
  },
  {
   "cell_type": "code",
   "execution_count": 16,
   "id": "5d9513ff-dfd8-4d12-a36b-0ca97e43d5ec",
   "metadata": {
    "tags": []
   },
   "outputs": [],
   "source": [
    "#Export to csv\n",
    "fav_df.to_csv(\"fav_df.csv\", index=False)"
   ]
  },
  {
   "cell_type": "code",
   "execution_count": 19,
   "id": "15eb6a87-d949-4837-9a1a-3ba921da15b2",
   "metadata": {
    "tags": []
   },
   "outputs": [
    {
     "name": "stdin",
     "output_type": "stream",
     "text": [
      "Enter your current hot song:  water\n"
     ]
    },
    {
     "name": "stdout",
     "output_type": "stream",
     "text": [
      "Great choice! You might also like 'Lovin On Me'.\n"
     ]
    }
   ],
   "source": [
    "user_input = input(\"Enter your current hot song: \")\n",
    "\n",
    "# Convert user input to lowercase for case-insensitive comparison\n",
    "user_input = user_input.lower()\n",
    "\n",
    "# Convert the \"SONG\" column values to lowercase for case-insensitive comparison\n",
    "hot100_df_songs = hot100_df[\"SONG\"].str.lower()\n",
    "fav_df_songs = fav_df[\"SONG\"].str.lower()\n",
    "\n",
    "if user_input in hot100_df_songs.values:\n",
    "        # Recommend another song\n",
    "        #hot100_df['Song'].sample().iloc[0] randomly selects one song from the 'SONG' column in the DF. \n",
    "        #provide recommendation to the user based on a random selection from the available songs.\n",
    "        recommended_song = hot100_df[hot100_df_songs != user_input][\"SONG\"].iloc[0]\n",
    "        \n",
    "        print(f\"Great choice! You might also like '{recommended_song}'.\")\n",
    "else:\n",
    "     if user_input in fav_df_songs.values:\n",
    "      # Recommend another favorite song\n",
    "           recommended_song = fav_df[fav_df_songs != user_input][\"SONG\"].iloc[0]\n",
    "           print(f\"Awesome taste! You might also like '{recommended_song}' from my favorite songs.\")\n",
    "     else:\n",
    "            print(f\"Sorry, '{user_input}' is not in the hot list or my favorite songs.\")"
   ]
  },
  {
   "cell_type": "code",
   "execution_count": null,
   "id": "5b7bb231-b818-4b4b-b944-c858b3ed5e60",
   "metadata": {},
   "outputs": [
    {
     "name": "stdin",
     "output_type": "stream",
     "text": [
      "Enter your current hot song:  wate\n"
     ]
    },
    {
     "name": "stdout",
     "output_type": "stream",
     "text": [
      "Great choice! You might also like 'water'.\n"
     ]
    }
   ],
   "source": [
    "from fuzzywuzzy import process\n",
    "\n",
    "# Assuming you have DataFrame hot100_df and fav_df defined somewhere before this code\n",
    "\n",
    "user_input = input(\"Enter your current hot song: \")\n",
    "\n",
    "# Convert user input to lowercase for case-insensitive comparison\n",
    "user_input = user_input.lower()\n",
    "\n",
    "# Convert the \"SONG\" column values to lowercase for case-insensitive comparison\n",
    "hot100_df_songs = hot100_df[\"SONG\"].str.lower()\n",
    "fav_df_songs = fav_df[\"SONG\"].str.lower()\n",
    "\n",
    "# Check for similar matches in hot100_df_songs\n",
    "hot100_result = process.extractOne(user_input, hot100_df_songs)\n",
    "hot100_match, hot100_similarity = hot100_result[0], hot100_result[1]\n",
    "\n",
    "if hot100_similarity >= 80:  # Adjust the threshold as needed\n",
    "    print(f\"Great choice! You might also like '{hot100_match}'.\")\n",
    "else:\n",
    "    # Check for similar matches in fav_df_songs\n",
    "    fav_result = process.extractOne(user_input, fav_df_songs)\n",
    "    fav_match, fav_similarity = fav_result[0], fav_result[1]\n",
    "    if fav_similarity >= 80:  # Adjust the threshold as needed\n",
    "        print(f\"Awesome taste! You might also like '{fav_match}' from my favorite songs.\")\n",
    "    else:\n",
    "        print(f\"Sorry, '{user_input}' is not in the hot list or my favorite songs. Did you mean '{hot100_match}' or '{fav_match}'?\")"
   ]
  },
  {
   "cell_type": "code",
   "execution_count": null,
   "id": "aea609ca-cb33-4f5a-bb6a-c6073d99944e",
   "metadata": {},
   "outputs": [],
   "source": []
  }
 ],
 "metadata": {
  "kernelspec": {
   "display_name": "Python 3 (ipykernel)",
   "language": "python",
   "name": "python3"
  },
  "language_info": {
   "codemirror_mode": {
    "name": "ipython",
    "version": 3
   },
   "file_extension": ".py",
   "mimetype": "text/x-python",
   "name": "python",
   "nbconvert_exporter": "python",
   "pygments_lexer": "ipython3",
   "version": "3.11.5"
  }
 },
 "nbformat": 4,
 "nbformat_minor": 5
}
