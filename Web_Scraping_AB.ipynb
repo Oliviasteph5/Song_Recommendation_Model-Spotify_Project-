{
 "cells": [
  {
   "cell_type": "markdown",
   "metadata": {
    "id": "2MeowL7BaAbT"
   },
   "source": [
    "# Intro to web scraping"
   ]
  },
  {
   "cell_type": "markdown",
   "metadata": {
    "id": "xdO0nKqpaAba"
   },
   "source": [
    "The first step of web scraping is to identify a website and download the html code from it. \n",
    "\n",
    "Real html from websites tends to be long and a bit too chaotic for a total beginner. Here we will start with a dummy html document and learn the basics of extracting info with beautifulsoup.\n",
    "\n",
    "- You can learn about Html here https://www.w3schools.com/html/\n",
    "- You can use codebeautify to make your html more readable and clean https://codebeautify.org/htmlviewer"
   ]
  },
  {
   "cell_type": "code",
   "execution_count": null,
   "metadata": {
    "ExecuteTime": {
     "end_time": "2022-11-21T10:23:59.833994Z",
     "start_time": "2022-11-21T10:23:59.831082Z"
    },
    "executionInfo": {
     "elapsed": 660,
     "status": "ok",
     "timestamp": 1617465193963,
     "user": {
      "displayName": "Ignacio Soteras",
      "photoUrl": "",
      "userId": "02050793736257155229"
     },
     "user_tz": -120
    },
    "id": "iYgB5Jt4aAbb"
   },
   "outputs": [],
   "source": [
    "html_doc = \"\"\" <!DOCTYPE html><html><head><title>The Dormouse's story</title></head><body><p class=\"title\"><b>The Dormouse's story</b></p><p class=\"story\">Once upon a time there were three little sisters; and their names were<a href=\"http://example.com/elsie\" class=\"sister\" id=\"link1\">Elsie</a>,<a href=\"http://example.com/lacie\" class=\"sister\" id=\"link2\">Lacie</a> and<a href=\"http://example.com/tillie\" class=\"sister\" id=\"link3\">Tillie</a>;and they lived at the bottom of a well.</p><p class=\"story\">...</p></html>\"\"\""
   ]
  },
  {
   "cell_type": "raw",
   "metadata": {},
   "source": [
    "html_doc = \"\"\"\n",
    "<!DOCTYPE html>\n",
    "<html>\n",
    "  <head>\n",
    "    <title>The Dormouse's story</title>\n",
    "  </head>\n",
    "  <body>\n",
    "  \n",
    "    <p class=\"title\">\n",
    "      <b>The Dormouse's story</b>\n",
    "    </p>\n",
    "    \n",
    "    <p class=\"story\">Once upon a time there were three little sisters; and their names were\n",
    "    <a href=\"http://example.com/elsie\" class=\"sister\" id=\"link1\">Elsie</a>, \n",
    "    <a href=\"http://example.com/lacie\" class=\"sister\" id=\"link2\">Lacie</a> and \n",
    "    <a href=\"http://example.com/tillie\" class=\"sister\" id=\"link3\">Tillie</a>\n",
    "    ;and they lived at the bottom of a well. \n",
    "    </p>\n",
    "    \n",
    "    <p class=\"story\">...</p>\n",
    "</html>\"\"\""
   ]
  },
  {
   "cell_type": "code",
   "execution_count": null,
   "metadata": {
    "ExecuteTime": {
     "end_time": "2022-11-21T10:23:59.841348Z",
     "start_time": "2022-11-21T10:23:59.836157Z"
    },
    "colab": {
     "base_uri": "https://localhost:8080/",
     "height": 86
    },
    "executionInfo": {
     "elapsed": 561,
     "status": "ok",
     "timestamp": 1617465197153,
     "user": {
      "displayName": "Ignacio Soteras",
      "photoUrl": "",
      "userId": "02050793736257155229"
     },
     "user_tz": -120
    },
    "id": "9ndQx21PaAbb",
    "outputId": "dacc5618-8d74-4646-8321-f9116687e41b"
   },
   "outputs": [],
   "source": [
    "html_doc"
   ]
  },
  {
   "cell_type": "code",
   "execution_count": null,
   "metadata": {
    "ExecuteTime": {
     "end_time": "2022-11-21T10:23:59.898135Z",
     "start_time": "2022-11-21T10:23:59.842292Z"
    },
    "executionInfo": {
     "elapsed": 533,
     "status": "ok",
     "timestamp": 1617465207602,
     "user": {
      "displayName": "Ignacio Soteras",
      "photoUrl": "",
      "userId": "02050793736257155229"
     },
     "user_tz": -120
    },
    "id": "KsSDasPgaAbc"
   },
   "outputs": [],
   "source": [
    "from bs4 import BeautifulSoup"
   ]
  },
  {
   "cell_type": "markdown",
   "metadata": {
    "id": "i1OdYTuJaAbd"
   },
   "source": [
    "#### \"creating the soup\""
   ]
  },
  {
   "cell_type": "code",
   "execution_count": null,
   "metadata": {
    "ExecuteTime": {
     "end_time": "2022-11-21T10:23:59.901202Z",
     "start_time": "2022-11-21T10:23:59.898921Z"
    },
    "executionInfo": {
     "elapsed": 532,
     "status": "ok",
     "timestamp": 1617465228581,
     "user": {
      "displayName": "Ignacio Soteras",
      "photoUrl": "",
      "userId": "02050793736257155229"
     },
     "user_tz": -120
    },
    "id": "cs0ECFiBaAbd"
   },
   "outputs": [],
   "source": [
    "# parse the element\n",
    "soup = BeautifulSoup(html_doc) "
   ]
  },
  {
   "cell_type": "code",
   "execution_count": null,
   "metadata": {},
   "outputs": [],
   "source": [
    "soup"
   ]
  },
  {
   "cell_type": "code",
   "execution_count": null,
   "metadata": {},
   "outputs": [],
   "source": [
    "print(soup.prettify())"
   ]
  },
  {
   "cell_type": "markdown",
   "metadata": {
    "id": "RLuvDPDzaAbd"
   },
   "source": [
    "#### accessing single elements"
   ]
  },
  {
   "cell_type": "markdown",
   "metadata": {
    "id": "JBSO_YnfcXrX"
   },
   "source": [
    "We can access html tags by appending to the `soup` a dot `.` and the name of the corresponding tag. In case of having multiple instances of the tag, only the first one will be retrieved.  "
   ]
  },
  {
   "cell_type": "code",
   "execution_count": null,
   "metadata": {
    "ExecuteTime": {
     "end_time": "2022-11-21T10:23:59.904844Z",
     "start_time": "2022-11-21T10:23:59.902140Z"
    },
    "colab": {
     "base_uri": "https://localhost:8080/"
    },
    "executionInfo": {
     "elapsed": 566,
     "status": "ok",
     "timestamp": 1617465238564,
     "user": {
      "displayName": "Ignacio Soteras",
      "photoUrl": "",
      "userId": "02050793736257155229"
     },
     "user_tz": -120
    },
    "id": "pnxH2FiPaAbe",
    "outputId": "b55fa1b7-8959-4b30-c09c-5a2276531e87"
   },
   "outputs": [],
   "source": [
    "soup.title"
   ]
  },
  {
   "cell_type": "code",
   "execution_count": null,
   "metadata": {
    "ExecuteTime": {
     "end_time": "2022-11-21T10:23:59.914307Z",
     "start_time": "2022-11-21T10:23:59.910820Z"
    },
    "colab": {
     "base_uri": "https://localhost:8080/",
     "height": 35
    },
    "executionInfo": {
     "elapsed": 559,
     "status": "ok",
     "timestamp": 1617465253514,
     "user": {
      "displayName": "Ignacio Soteras",
      "photoUrl": "",
      "userId": "02050793736257155229"
     },
     "user_tz": -120
    },
    "id": "f0MsU15MaAbe",
    "outputId": "d0d9b290-7934-414f-be4c-ef8cc95dca25"
   },
   "outputs": [],
   "source": [
    "soup.title.parent"
   ]
  },
  {
   "cell_type": "code",
   "execution_count": null,
   "metadata": {
    "ExecuteTime": {
     "end_time": "2022-11-21T10:23:59.918179Z",
     "start_time": "2022-11-21T10:23:59.915465Z"
    }
   },
   "outputs": [],
   "source": [
    "soup.html.body.p"
   ]
  },
  {
   "cell_type": "markdown",
   "metadata": {},
   "source": [
    "<b> searching using find() function"
   ]
  },
  {
   "cell_type": "code",
   "execution_count": null,
   "metadata": {
    "ExecuteTime": {
     "end_time": "2022-11-21T10:23:59.921751Z",
     "start_time": "2022-11-21T10:23:59.919225Z"
    },
    "colab": {
     "base_uri": "https://localhost:8080/"
    },
    "executionInfo": {
     "elapsed": 569,
     "status": "ok",
     "timestamp": 1617465256917,
     "user": {
      "displayName": "Ignacio Soteras",
      "photoUrl": "",
      "userId": "02050793736257155229"
     },
     "user_tz": -120
    },
    "id": "YpUQh0exaAbe",
    "outputId": "605f9d35-44a9-42fa-b326-22a0a26b17db"
   },
   "outputs": [],
   "source": [
    "soup.find(\"p\").get_text()"
   ]
  },
  {
   "cell_type": "code",
   "execution_count": null,
   "metadata": {
    "ExecuteTime": {
     "end_time": "2022-11-21T10:23:59.925492Z",
     "start_time": "2022-11-21T10:23:59.922653Z"
    },
    "colab": {
     "base_uri": "https://localhost:8080/"
    },
    "executionInfo": {
     "elapsed": 645,
     "status": "ok",
     "timestamp": 1617465265285,
     "user": {
      "displayName": "Ignacio Soteras",
      "photoUrl": "",
      "userId": "02050793736257155229"
     },
     "user_tz": -120
    },
    "id": "9FL9FBEzaAbf",
    "outputId": "c0a33bd0-19f2-4cea-971a-32d79cf1e021"
   },
   "outputs": [],
   "source": [
    "# this method only retrieves the first element of the specified tag\n",
    "soup.p"
   ]
  },
  {
   "cell_type": "markdown",
   "metadata": {
    "id": "2zgj0GceaAbf"
   },
   "source": [
    "#### finding all elements of a tag with the powerful find_all()"
   ]
  },
  {
   "cell_type": "code",
   "execution_count": null,
   "metadata": {
    "ExecuteTime": {
     "end_time": "2022-11-21T10:23:59.931719Z",
     "start_time": "2022-11-21T10:23:59.926428Z"
    },
    "colab": {
     "base_uri": "https://localhost:8080/"
    },
    "executionInfo": {
     "elapsed": 543,
     "status": "ok",
     "timestamp": 1617465454278,
     "user": {
      "displayName": "Ignacio Soteras",
      "photoUrl": "",
      "userId": "02050793736257155229"
     },
     "user_tz": -120
    },
    "id": "opAvwEFZaAbf",
    "outputId": "ead0b364-e609-4a5c-b5da-17b7c824cfaa"
   },
   "outputs": [],
   "source": [
    "p_tags = soup.find_all(\"p\")\n",
    "p_tags"
   ]
  },
  {
   "cell_type": "markdown",
   "metadata": {
    "id": "WuGgfL7EdF65"
   },
   "source": [
    "To get the `text`from the corresponding html code, we can use the function: get_text()"
   ]
  },
  {
   "cell_type": "code",
   "execution_count": null,
   "metadata": {
    "ExecuteTime": {
     "end_time": "2022-11-21T10:23:59.934958Z",
     "start_time": "2022-11-21T10:23:59.932615Z"
    },
    "id": "tlzGmYxVaAbf",
    "outputId": "5b891a84-bf77-4844-b0e0-8a60a8420551"
   },
   "outputs": [],
   "source": [
    "for p in p_tags:\n",
    "    print(p.get_text())"
   ]
  },
  {
   "cell_type": "markdown",
   "metadata": {},
   "source": [
    "## Return the 3 names of the sisters"
   ]
  },
  {
   "cell_type": "code",
   "execution_count": null,
   "metadata": {},
   "outputs": [],
   "source": [
    "print(soup.prettify())"
   ]
  },
  {
   "cell_type": "code",
   "execution_count": null,
   "metadata": {},
   "outputs": [],
   "source": [
    "a_tags = soup.find_all('a')"
   ]
  },
  {
   "cell_type": "code",
   "execution_count": null,
   "metadata": {},
   "outputs": [],
   "source": [
    "for name in a_tags:\n",
    "    print(name.text)"
   ]
  },
  {
   "cell_type": "markdown",
   "metadata": {
    "id": "iSzD6IxbaAbf"
   },
   "source": [
    "## Using css selectors\n",
    "Another way to find contents using select(). \n",
    "\n",
    "Let's learn first the syntax of css selectors playing this game: https://flukeout.github.io/\n",
    "\n",
    "Everyone should reach level 6!\n",
    "\n",
    "https://www.w3schools.com/css/css_howto.asp"
   ]
  },
  {
   "cell_type": "code",
   "execution_count": null,
   "metadata": {
    "ExecuteTime": {
     "end_time": "2022-11-21T10:23:59.939380Z",
     "start_time": "2022-11-21T10:23:59.936028Z"
    },
    "id": "dNk8C2hoaAbf",
    "outputId": "900aa5e6-ae40-45c2-e894-7795b15c20ff"
   },
   "outputs": [],
   "source": [
    "soup.select(\"a\")"
   ]
  },
  {
   "cell_type": "code",
   "execution_count": null,
   "metadata": {
    "ExecuteTime": {
     "end_time": "2022-11-21T10:23:59.942591Z",
     "start_time": "2022-11-21T10:23:59.940234Z"
    }
   },
   "outputs": [],
   "source": [
    "for a in soup.select('a'):\n",
    "    print(a.get_text())"
   ]
  },
  {
   "cell_type": "code",
   "execution_count": null,
   "metadata": {},
   "outputs": [],
   "source": [
    "soup.select('p')"
   ]
  },
  {
   "cell_type": "code",
   "execution_count": null,
   "metadata": {
    "ExecuteTime": {
     "end_time": "2022-11-21T10:23:59.948173Z",
     "start_time": "2022-11-21T10:23:59.943587Z"
    }
   },
   "outputs": [],
   "source": [
    "soup.select(\"p\")[0]"
   ]
  },
  {
   "cell_type": "markdown",
   "metadata": {},
   "source": [
    "using css selector, you can search directly using Css classes!"
   ]
  },
  {
   "cell_type": "code",
   "execution_count": null,
   "metadata": {
    "ExecuteTime": {
     "end_time": "2022-11-21T10:23:59.951745Z",
     "start_time": "2022-11-21T10:23:59.948985Z"
    },
    "id": "zzColpFDaAbg",
    "outputId": "5f20e08b-157c-43de-f8f6-7a75fbc01416"
   },
   "outputs": [],
   "source": [
    "soup.select(\".title\")"
   ]
  },
  {
   "cell_type": "markdown",
   "metadata": {},
   "source": [
    "<b> comparing to find_all() .."
   ]
  },
  {
   "cell_type": "code",
   "execution_count": null,
   "metadata": {
    "ExecuteTime": {
     "end_time": "2022-11-21T10:23:59.955538Z",
     "start_time": "2022-11-21T10:23:59.952594Z"
    }
   },
   "outputs": [],
   "source": [
    "soup.find_all(\"a\", class_=\"sister\")"
   ]
  },
  {
   "cell_type": "code",
   "execution_count": null,
   "metadata": {
    "ExecuteTime": {
     "end_time": "2022-11-21T10:23:59.959269Z",
     "start_time": "2022-11-21T10:23:59.956330Z"
    },
    "colab": {
     "base_uri": "https://localhost:8080/"
    },
    "executionInfo": {
     "elapsed": 589,
     "status": "ok",
     "timestamp": 1617465582120,
     "user": {
      "displayName": "Ignacio Soteras",
      "photoUrl": "",
      "userId": "02050793736257155229"
     },
     "user_tz": -120
    },
    "id": "6mZMh6fEaAbg",
    "outputId": "4c422533-a45e-408d-9cd7-01c0aaf59a16",
    "scrolled": true
   },
   "outputs": [],
   "source": [
    "soup.select(\"a.sister\")"
   ]
  },
  {
   "cell_type": "markdown",
   "metadata": {},
   "source": [
    "<b>  You can searc directly using id attributes"
   ]
  },
  {
   "cell_type": "code",
   "execution_count": null,
   "metadata": {
    "ExecuteTime": {
     "end_time": "2022-11-21T10:23:59.962881Z",
     "start_time": "2022-11-21T10:23:59.960086Z"
    },
    "colab": {
     "base_uri": "https://localhost:8080/"
    },
    "executionInfo": {
     "elapsed": 571,
     "status": "ok",
     "timestamp": 1617465565574,
     "user": {
      "displayName": "Ignacio Soteras",
      "photoUrl": "",
      "userId": "02050793736257155229"
     },
     "user_tz": -120
    },
    "id": "n4dJ3ZmmaAbg",
    "outputId": "5e1911c9-d6e3-4be4-eab8-b37db79749eb"
   },
   "outputs": [],
   "source": [
    "soup.select(\"#link2\")"
   ]
  },
  {
   "cell_type": "markdown",
   "metadata": {
    "id": "pmG7uZlQaAbg"
   },
   "source": [
    "We can combine the `select()` method with other bs4 methods, such as `get_text()`.\n",
    "\n",
    "`get_text()`, however, can only be applied to single elements, while `select()` might return multiple elements. It's common to iterate through the output of `select()`"
   ]
  },
  {
   "cell_type": "code",
   "execution_count": null,
   "metadata": {
    "ExecuteTime": {
     "end_time": "2022-11-21T10:23:59.966632Z",
     "start_time": "2022-11-21T10:23:59.963708Z"
    },
    "colab": {
     "base_uri": "https://localhost:8080/"
    },
    "executionInfo": {
     "elapsed": 556,
     "status": "ok",
     "timestamp": 1617465602862,
     "user": {
      "displayName": "Ignacio Soteras",
      "photoUrl": "",
      "userId": "02050793736257155229"
     },
     "user_tz": -120
    },
    "id": "xMaRktqaaAbg",
    "outputId": "c31aede1-3671-4e01-dda8-4ad1c34236f4"
   },
   "outputs": [],
   "source": [
    "print(soup.select(\".story\"))"
   ]
  },
  {
   "cell_type": "code",
   "execution_count": null,
   "metadata": {
    "ExecuteTime": {
     "end_time": "2022-11-21T10:23:59.969843Z",
     "start_time": "2022-11-21T10:23:59.967544Z"
    },
    "colab": {
     "base_uri": "https://localhost:8080/"
    },
    "executionInfo": {
     "elapsed": 545,
     "status": "ok",
     "timestamp": 1617465606338,
     "user": {
      "displayName": "Ignacio Soteras",
      "photoUrl": "",
      "userId": "02050793736257155229"
     },
     "user_tz": -120
    },
    "id": "-I92xAykaAbh",
    "outputId": "cb2ac2fc-f842-4141-f742-bcb76a70d0ca"
   },
   "outputs": [],
   "source": [
    "for p in soup.select(\"p.story\"):\n",
    "    print(p.get_text())"
   ]
  },
  {
   "cell_type": "markdown",
   "metadata": {
    "id": "6KfG8vDwaAbh"
   },
   "source": [
    "\n",
    "\n",
    "Write code to print the following contents (not including the html tags, only human-readable text): \n",
    "\n",
    "1. All the \"fun facts\". \n",
    "\n",
    "2. The names of all the places. \n",
    "\n",
    "3. The content (name and fact) of all the cities (only cities, not countries!) \n",
    "\n",
    "4. The names (not facts!) of all the cities (not countries!)"
   ]
  },
  {
   "cell_type": "code",
   "execution_count": null,
   "metadata": {},
   "outputs": [],
   "source": [
    "#1 fun facts\n",
    "for p in soup.select(\"p\"):\n",
    "    print(p.get_text())\n",
    "\n",
    "    print()\n",
    "#2 \n",
    "for place in soup.select(\"h2\"):\n",
    "    print(place.get_text())\n",
    "    \n",
    "#3 content of all cities\n"
   ]
  },
  {
   "cell_type": "code",
   "execution_count": null,
   "metadata": {},
   "outputs": [],
   "source": [
    "for city in soup.find_all(\"div\", class_ = \"city\"):\n",
    "    print(city.get_text())"
   ]
  },
  {
   "cell_type": "code",
   "execution_count": null,
   "metadata": {},
   "outputs": [],
   "source": [
    "for city in soup.select(\".city h2\"):\n",
    "    print(city.get_text())"
   ]
  },
  {
   "cell_type": "code",
   "execution_count": null,
   "metadata": {
    "ExecuteTime": {
     "end_time": "2022-11-21T10:23:59.975879Z",
     "start_time": "2022-11-21T10:23:59.974274Z"
    },
    "executionInfo": {
     "elapsed": 537,
     "status": "ok",
     "timestamp": 1617465616779,
     "user": {
      "displayName": "Ignacio Soteras",
      "photoUrl": "",
      "userId": "02050793736257155229"
     },
     "user_tz": -120
    },
    "id": "IeMQdO9oaAbh"
   },
   "outputs": [],
   "source": [
    "geography = \"\"\"\n",
    "<!DOCTYPE html>\n",
    "<html>\n",
    "<head> Geography</head>\n",
    "<body>\n",
    "\n",
    "<div class=\"city\">\n",
    "  <h2>London</h2>\n",
    "  <p>London is the most popular tourist destination in the world.</p>\n",
    "</div>\n",
    "\n",
    "<div class=\"city\">\n",
    "  <h2>Paris</h2>\n",
    "  <p>Paris was originally a Roman City called Lutetia.</p>\n",
    "</div>\n",
    "\n",
    "<div class=\"country\">\n",
    "  <h2>Spain</h2>\n",
    "  <p>Spain produces 43,8% of all the world's Olive Oil.</p>\n",
    "</div>\n",
    "\n",
    "</body>\n",
    "</html>\n",
    "\"\"\""
   ]
  },
  {
   "cell_type": "code",
   "execution_count": null,
   "metadata": {
    "ExecuteTime": {
     "end_time": "2022-11-21T10:23:59.981254Z",
     "start_time": "2022-11-21T10:23:59.976715Z"
    },
    "colab": {
     "base_uri": "https://localhost:8080/"
    },
    "executionInfo": {
     "elapsed": 558,
     "status": "ok",
     "timestamp": 1617465618931,
     "user": {
      "displayName": "Ignacio Soteras",
      "photoUrl": "",
      "userId": "02050793736257155229"
     },
     "user_tz": -120
    },
    "id": "N30WN3l0aAbh",
    "outputId": "c60877a2-c689-412d-a2a5-7f74d019cb07"
   },
   "outputs": [],
   "source": [
    "soup = BeautifulSoup(geography, 'html.parser')\n",
    "\n",
    "print(soup.prettify())"
   ]
  },
  {
   "cell_type": "code",
   "execution_count": null,
   "metadata": {},
   "outputs": [],
   "source": [
    "# Your code goes here"
   ]
  },
  {
   "cell_type": "markdown",
   "metadata": {
    "id": "du1eWZioaAbi"
   },
   "source": [
    "## Use case: \n",
    "\n",
    "\n",
    "\n"
   ]
  },
  {
   "cell_type": "code",
   "execution_count": null,
   "metadata": {
    "ExecuteTime": {
     "end_time": "2022-11-21T10:24:00.280927Z",
     "start_time": "2022-11-21T10:24:00.007741Z"
    },
    "id": "yVB5PyUKaAbi"
   },
   "outputs": [],
   "source": [
    "# 1. import libraries\n",
    "from bs4 import BeautifulSoup\n",
    "import requests\n",
    "import pandas as pd"
   ]
  },
  {
   "cell_type": "code",
   "execution_count": null,
   "metadata": {
    "ExecuteTime": {
     "end_time": "2022-11-21T10:24:00.283691Z",
     "start_time": "2022-11-21T10:24:00.281914Z"
    },
    "id": "aeTnMAh4aAbi"
   },
   "outputs": [],
   "source": [
    "# 2. find url and store it in a variable\n",
    "url = \"https://www.timeout.com/film/best-movies-of-all-time\"\n",
    "response = requests.get(url)\n",
    "soup = BeautifulSoup(response.content)"
   ]
  },
  {
   "cell_type": "code",
   "execution_count": null,
   "metadata": {},
   "outputs": [],
   "source": [
    "soup"
   ]
  },
  {
   "cell_type": "code",
   "execution_count": null,
   "metadata": {},
   "outputs": [],
   "source": [
    "top100m = []\n",
    "for title in soup.select(\"h3\"):\n",
    "    top100m.append(title.get_text())\n",
    "top100m"
   ]
  },
  {
   "cell_type": "code",
   "execution_count": null,
   "metadata": {},
   "outputs": [],
   "source": [
    "top100m.pop()"
   ]
  },
  {
   "cell_type": "code",
   "execution_count": null,
   "metadata": {},
   "outputs": [],
   "source": [
    "top100m"
   ]
  },
  {
   "cell_type": "code",
   "execution_count": null,
   "metadata": {},
   "outputs": [],
   "source": [
    "best_movies = pd.DataFrame({\"movie_title\":top100m})"
   ]
  },
  {
   "cell_type": "code",
   "execution_count": null,
   "metadata": {},
   "outputs": [],
   "source": [
    "best_movies"
   ]
  },
  {
   "cell_type": "markdown",
   "metadata": {},
   "source": [
    "### scraping gutenberg.org"
   ]
  },
  {
   "cell_type": "code",
   "execution_count": null,
   "metadata": {},
   "outputs": [],
   "source": [
    "url = \"https://gutenberg.org/ebooks/search/?sort_order=downloads\"\n",
    "response = requests.get(url)\n",
    "soup = BeautifulSoup(response.content)"
   ]
  },
  {
   "cell_type": "code",
   "execution_count": null,
   "metadata": {},
   "outputs": [],
   "source": [
    "books = []\n",
    "for book in soup.select(\"li.booklink span.title\"):\n",
    "    books.append(book.get_text())"
   ]
  },
  {
   "cell_type": "code",
   "execution_count": null,
   "metadata": {},
   "outputs": [],
   "source": [
    "books"
   ]
  },
  {
   "cell_type": "code",
   "execution_count": null,
   "metadata": {},
   "outputs": [],
   "source": [
    "authors = []\n",
    "for author in soup.select(\"li.booklink span.subtitle\"):\n",
    "    authors.append(author.get_text())\n",
    "authors"
   ]
  },
  {
   "cell_type": "code",
   "execution_count": null,
   "metadata": {},
   "outputs": [],
   "source": [
    "best_books_df = pd.DataFrame({\"books\":books, \"author\":authors})\n",
    "best_books_df"
   ]
  },
  {
   "cell_type": "markdown",
   "metadata": {},
   "source": [
    "# <b> using requests package"
   ]
  },
  {
   "cell_type": "code",
   "execution_count": null,
   "metadata": {
    "ExecuteTime": {
     "end_time": "2022-11-21T10:24:01.134137Z",
     "start_time": "2022-11-21T10:24:00.285049Z"
    },
    "id": "wY1bee2oaAbi",
    "outputId": "c0d28c71-973c-43d4-e325-95eb14468348"
   },
   "outputs": [],
   "source": [
    "# 3. download html with a get request \n",
    "response = requests.get(url)"
   ]
  },
  {
   "cell_type": "code",
   "execution_count": null,
   "metadata": {
    "ExecuteTime": {
     "end_time": "2022-11-21T10:24:01.146189Z",
     "start_time": "2022-11-21T10:24:01.138235Z"
    }
   },
   "outputs": [],
   "source": [
    "response.status_code # 200 status code means OK!"
   ]
  },
  {
   "cell_type": "markdown",
   "metadata": {},
   "source": [
    "### HTTP Response status codes \n",
    "https://developer.mozilla.org/en-US/docs/Web/HTTP/Status"
   ]
  },
  {
   "cell_type": "code",
   "execution_count": null,
   "metadata": {
    "ExecuteTime": {
     "end_time": "2022-11-21T10:24:01.674367Z",
     "start_time": "2022-11-21T10:24:01.162318Z"
    },
    "id": "N4muU72MaAbj",
    "outputId": "fd2d1078-7507-41ac-b3cd-2d872f2053bc",
    "scrolled": true
   },
   "outputs": [],
   "source": [
    "# 4.1. parse html (create the 'soup')\n",
    "soup = BeautifulSoup(response.content, \"html.parser\")\n",
    "# 4.2. check that the html code looks like it should\n",
    "soup"
   ]
  },
  {
   "cell_type": "markdown",
   "metadata": {
    "id": "kXxPimjraAbk"
   },
   "source": [
    "#### Building the dataframe"
   ]
  },
  {
   "cell_type": "code",
   "execution_count": null,
   "metadata": {},
   "outputs": [],
   "source": [
    "#your code here"
   ]
  },
  {
   "cell_type": "markdown",
   "metadata": {
    "id": "nQcALDRsaAbl"
   },
   "source": [
    "### Cleaning the data"
   ]
  },
  {
   "cell_type": "code",
   "execution_count": null,
   "metadata": {
    "ExecuteTime": {
     "end_time": "2022-11-21T10:24:26.496041Z",
     "start_time": "2022-11-21T10:24:26.489637Z"
    },
    "id": "V3hwm4jRaAbm"
   },
   "outputs": [],
   "source": [
    "# your code here"
   ]
  },
  {
   "cell_type": "code",
   "execution_count": 129,
   "metadata": {},
   "outputs": [],
   "source": [
    "url =\"https://www.nytimes.com/books/best-sellers/hardcover-nonfiction/\"\n",
    "response = requests.get(url)\n",
    "soup = BeautifulSoup(response.content)"
   ]
  },
  {
   "cell_type": "code",
   "execution_count": 130,
   "metadata": {},
   "outputs": [
    {
     "data": {
      "text/plain": [
       "200"
      ]
     },
     "execution_count": 130,
     "metadata": {},
     "output_type": "execute_result"
    }
   ],
   "source": [
    "response.status_code"
   ]
  },
  {
   "cell_type": "code",
   "execution_count": 138,
   "metadata": {},
   "outputs": [
    {
     "data": {
      "text/plain": [
       "['THE WAGER',\n",
       " 'OATH AND HONOR',\n",
       " 'OUTLIVE',\n",
       " 'THE WOMAN IN ME',\n",
       " 'THE KINGDOM, THE POWER, AND THE GLORY',\n",
       " 'FRIENDS, LOVERS, AND THE BIG TERRIBLE THING',\n",
       " 'MADNESS',\n",
       " 'ELON MUSK',\n",
       " 'READ WRITE OWN',\n",
       " 'THE GRIFT',\n",
       " 'THE IN-BETWEEN',\n",
       " 'FIND ME THE VOTES',\n",
       " 'LEGACY',\n",
       " \"I'M GLAD MY MOM DIED\",\n",
       " 'OUR HIDDEN CONVERSATIONS']"
      ]
     },
     "execution_count": 138,
     "metadata": {},
     "output_type": "execute_result"
    }
   ],
   "source": [
    "titles = []\n",
    "for name in soup.select(\"h3.css-5pe77f\"):\n",
    "    titles.append(name.get_text())\n",
    "titles"
   ]
  },
  {
   "cell_type": "code",
   "execution_count": 141,
   "metadata": {},
   "outputs": [],
   "source": [
    "authors = []\n",
    "for author in soup.select(\"p.css-hjukut\"):\n",
    "    authors.append(author.get_text())"
   ]
  },
  {
   "cell_type": "code",
   "execution_count": 142,
   "metadata": {},
   "outputs": [
    {
     "data": {
      "text/plain": [
       "['by David Grann',\n",
       " 'by Liz Cheney',\n",
       " 'by Peter Attia with Bill Gifford',\n",
       " 'by Britney Spears',\n",
       " 'by Tim Alberta',\n",
       " 'by Matthew Perry',\n",
       " 'by Antonia Hylton',\n",
       " 'by Walter Isaacson',\n",
       " 'by Chris Dixon',\n",
       " 'by Clay Cane',\n",
       " 'by Hadley Vlahos',\n",
       " 'by Michael Isikoff and Daniel Klaidman',\n",
       " 'by Uché Blackstock',\n",
       " 'by Jennette McCurdy',\n",
       " 'by Michele Norris']"
      ]
     },
     "execution_count": 142,
     "metadata": {},
     "output_type": "execute_result"
    }
   ],
   "source": [
    "authors"
   ]
  },
  {
   "cell_type": "markdown",
   "metadata": {},
   "source": [
    "Retrieve the description of the book\n",
    "\n",
    "Create the dataframe with 3 columns:\n",
    "- title\n",
    "- author\n",
    "- description\n",
    "\n",
    "Clean the data with the following steps:\n",
    "- Capitalize the title (lower case + capitalized)\n",
    "- Remove \"by\" from the authors"
   ]
  },
  {
   "cell_type": "code",
   "execution_count": null,
   "metadata": {},
   "outputs": [],
   "source": []
  },
  {
   "cell_type": "code",
   "execution_count": 144,
   "metadata": {
    "collapsed": true
   },
   "outputs": [
    {
     "data": {
      "text/plain": [
       "['The Wager',\n",
       " 'Oath And Honor',\n",
       " 'Outlive',\n",
       " 'The Woman In Me',\n",
       " 'The Kingdom, The Power, And The Glory',\n",
       " 'Friends, Lovers, And The Big Terrible Thing',\n",
       " 'Madness',\n",
       " 'Elon Musk',\n",
       " 'Read Write Own',\n",
       " 'The Grift',\n",
       " 'The In-Between',\n",
       " 'Find Me The Votes',\n",
       " 'Legacy',\n",
       " \"I'M Glad My Mom Died\",\n",
       " 'Our Hidden Conversations']"
      ]
     },
     "execution_count": 144,
     "metadata": {},
     "output_type": "execute_result"
    }
   ],
   "source": [
    "\n",
    "camel_cased_words = [word.title() for word in titles]\n",
    "camel_cased_words"
   ]
  },
  {
   "cell_type": "code",
   "execution_count": 145,
   "metadata": {
    "collapsed": true
   },
   "outputs": [
    {
     "data": {
      "text/plain": [
       "['David Grann',\n",
       " 'Liz Cheney',\n",
       " 'Peter Attia with Bill Gifford',\n",
       " 'Britney Spears',\n",
       " 'Tim Alberta',\n",
       " 'Matthew Perry',\n",
       " 'Antonia Hylton',\n",
       " 'Walter Isaacson',\n",
       " 'Chris Dixon',\n",
       " 'Clay Cane',\n",
       " 'Hadley Vlahos',\n",
       " 'Michael Isikoff and Daniel Klaidman',\n",
       " 'Uché Blackstock',\n",
       " 'Jennette McCurdy',\n",
       " 'Michele Norris']"
      ]
     },
     "execution_count": 145,
     "metadata": {},
     "output_type": "execute_result"
    }
   ],
   "source": [
    "authors_noby = [author.split(\"by\")[1].strip() for author in authors]\n",
    "authors_noby"
   ]
  },
  {
   "cell_type": "code",
   "execution_count": 147,
   "metadata": {
    "collapsed": true
   },
   "outputs": [
    {
     "data": {
      "text/plain": [
       "['The survivors of a shipwrecked British vessel on a secret mission during an imperial war with Spain have different accounts of events.',\n",
       " 'The former congresswoman from Wyoming recounts how she helped lead the Select Committee to Investigate the Jan. 6. Attack on the United States Capitol.',\n",
       " 'A look at recent scientific research on aging and longevity.',\n",
       " 'The Grammy Award-winning pop star details her personal and professional experiences, including the years she spent under a conservatorship overseen by her father.',\n",
       " 'The author of “American Carnage” looks at divisions within the American evangelical movement.',\n",
       " 'The late actor, known for playing Chandler Bing on “Friends,” shares stories from his childhood and his struggles with sobriety.',\n",
       " 'A Peabody and Emmy award-winning journalist unearths the 93-year-old history of a segregated asylum in Maryland.',\n",
       " 'The author of “The Code Breaker” traces Musk’s life and summarizes his work on electric vehicles, private space exploration and artificial intelligence.',\n",
       " 'A technology entrepreneur describes three eras of the internet and argues in favor of blockchain networks.',\n",
       " 'An overview of Black Republicanism from the time of President Lincoln to the present.',\n",
       " \"A hospice nurse shares some of her most impactful experiences and questions some of society's beliefs around end-of-life care.\",\n",
       " 'An account of former President Trump’s attempt to overturn the 2020 election and a Georgia prosecutor’s decision to indict him and his allies.',\n",
       " 'A Black physician details systemic barriers and inequities that affect Black patients and doctors.',\n",
       " 'The actress and filmmaker describes her eating disorders and difficult relationship with her mother.',\n",
       " 'Stories, essays and photographs exploring race and identity in America.']"
      ]
     },
     "execution_count": 147,
     "metadata": {},
     "output_type": "execute_result"
    }
   ],
   "source": [
    "descriptions = []\n",
    "for desc in soup.select(\"p.css-14lubdp\"):\n",
    "    descriptions.append(desc.get_text())\n",
    "descriptions"
   ]
  },
  {
   "cell_type": "code",
   "execution_count": 148,
   "metadata": {},
   "outputs": [],
   "source": [
    "nybs = {\"title\":camel_cased_words,\"authors\":authors_noby, \"description\":descriptions}"
   ]
  },
  {
   "cell_type": "code",
   "execution_count": 149,
   "metadata": {},
   "outputs": [],
   "source": [
    "nybs_df = pd.DataFrame(nybs)"
   ]
  },
  {
   "cell_type": "code",
   "execution_count": 150,
   "metadata": {},
   "outputs": [
    {
     "data": {
      "text/html": [
       "<div>\n",
       "<style scoped>\n",
       "    .dataframe tbody tr th:only-of-type {\n",
       "        vertical-align: middle;\n",
       "    }\n",
       "\n",
       "    .dataframe tbody tr th {\n",
       "        vertical-align: top;\n",
       "    }\n",
       "\n",
       "    .dataframe thead th {\n",
       "        text-align: right;\n",
       "    }\n",
       "</style>\n",
       "<table border=\"1\" class=\"dataframe\">\n",
       "  <thead>\n",
       "    <tr style=\"text-align: right;\">\n",
       "      <th></th>\n",
       "      <th>title</th>\n",
       "      <th>authors</th>\n",
       "      <th>description</th>\n",
       "    </tr>\n",
       "  </thead>\n",
       "  <tbody>\n",
       "    <tr>\n",
       "      <th>0</th>\n",
       "      <td>The Wager</td>\n",
       "      <td>David Grann</td>\n",
       "      <td>The survivors of a shipwrecked British vessel ...</td>\n",
       "    </tr>\n",
       "    <tr>\n",
       "      <th>1</th>\n",
       "      <td>Oath And Honor</td>\n",
       "      <td>Liz Cheney</td>\n",
       "      <td>The former congresswoman from Wyoming recounts...</td>\n",
       "    </tr>\n",
       "    <tr>\n",
       "      <th>2</th>\n",
       "      <td>Outlive</td>\n",
       "      <td>Peter Attia with Bill Gifford</td>\n",
       "      <td>A look at recent scientific research on aging ...</td>\n",
       "    </tr>\n",
       "    <tr>\n",
       "      <th>3</th>\n",
       "      <td>The Woman In Me</td>\n",
       "      <td>Britney Spears</td>\n",
       "      <td>The Grammy Award-winning pop star details her ...</td>\n",
       "    </tr>\n",
       "    <tr>\n",
       "      <th>4</th>\n",
       "      <td>The Kingdom, The Power, And The Glory</td>\n",
       "      <td>Tim Alberta</td>\n",
       "      <td>The author of “American Carnage” looks at divi...</td>\n",
       "    </tr>\n",
       "    <tr>\n",
       "      <th>5</th>\n",
       "      <td>Friends, Lovers, And The Big Terrible Thing</td>\n",
       "      <td>Matthew Perry</td>\n",
       "      <td>The late actor, known for playing Chandler Bin...</td>\n",
       "    </tr>\n",
       "    <tr>\n",
       "      <th>6</th>\n",
       "      <td>Madness</td>\n",
       "      <td>Antonia Hylton</td>\n",
       "      <td>A Peabody and Emmy award-winning journalist un...</td>\n",
       "    </tr>\n",
       "    <tr>\n",
       "      <th>7</th>\n",
       "      <td>Elon Musk</td>\n",
       "      <td>Walter Isaacson</td>\n",
       "      <td>The author of “The Code Breaker” traces Musk’s...</td>\n",
       "    </tr>\n",
       "    <tr>\n",
       "      <th>8</th>\n",
       "      <td>Read Write Own</td>\n",
       "      <td>Chris Dixon</td>\n",
       "      <td>A technology entrepreneur describes three eras...</td>\n",
       "    </tr>\n",
       "    <tr>\n",
       "      <th>9</th>\n",
       "      <td>The Grift</td>\n",
       "      <td>Clay Cane</td>\n",
       "      <td>An overview of Black Republicanism from the ti...</td>\n",
       "    </tr>\n",
       "    <tr>\n",
       "      <th>10</th>\n",
       "      <td>The In-Between</td>\n",
       "      <td>Hadley Vlahos</td>\n",
       "      <td>A hospice nurse shares some of her most impact...</td>\n",
       "    </tr>\n",
       "    <tr>\n",
       "      <th>11</th>\n",
       "      <td>Find Me The Votes</td>\n",
       "      <td>Michael Isikoff and Daniel Klaidman</td>\n",
       "      <td>An account of former President Trump’s attempt...</td>\n",
       "    </tr>\n",
       "    <tr>\n",
       "      <th>12</th>\n",
       "      <td>Legacy</td>\n",
       "      <td>Uché Blackstock</td>\n",
       "      <td>A Black physician details systemic barriers an...</td>\n",
       "    </tr>\n",
       "    <tr>\n",
       "      <th>13</th>\n",
       "      <td>I'M Glad My Mom Died</td>\n",
       "      <td>Jennette McCurdy</td>\n",
       "      <td>The actress and filmmaker describes her eating...</td>\n",
       "    </tr>\n",
       "    <tr>\n",
       "      <th>14</th>\n",
       "      <td>Our Hidden Conversations</td>\n",
       "      <td>Michele Norris</td>\n",
       "      <td>Stories, essays and photographs exploring race...</td>\n",
       "    </tr>\n",
       "  </tbody>\n",
       "</table>\n",
       "</div>"
      ],
      "text/plain": [
       "                                          title  \\\n",
       "0                                     The Wager   \n",
       "1                                Oath And Honor   \n",
       "2                                       Outlive   \n",
       "3                               The Woman In Me   \n",
       "4         The Kingdom, The Power, And The Glory   \n",
       "5   Friends, Lovers, And The Big Terrible Thing   \n",
       "6                                       Madness   \n",
       "7                                     Elon Musk   \n",
       "8                                Read Write Own   \n",
       "9                                     The Grift   \n",
       "10                               The In-Between   \n",
       "11                            Find Me The Votes   \n",
       "12                                       Legacy   \n",
       "13                         I'M Glad My Mom Died   \n",
       "14                     Our Hidden Conversations   \n",
       "\n",
       "                                authors  \\\n",
       "0                           David Grann   \n",
       "1                            Liz Cheney   \n",
       "2         Peter Attia with Bill Gifford   \n",
       "3                        Britney Spears   \n",
       "4                           Tim Alberta   \n",
       "5                         Matthew Perry   \n",
       "6                        Antonia Hylton   \n",
       "7                       Walter Isaacson   \n",
       "8                           Chris Dixon   \n",
       "9                             Clay Cane   \n",
       "10                        Hadley Vlahos   \n",
       "11  Michael Isikoff and Daniel Klaidman   \n",
       "12                      Uché Blackstock   \n",
       "13                     Jennette McCurdy   \n",
       "14                       Michele Norris   \n",
       "\n",
       "                                          description  \n",
       "0   The survivors of a shipwrecked British vessel ...  \n",
       "1   The former congresswoman from Wyoming recounts...  \n",
       "2   A look at recent scientific research on aging ...  \n",
       "3   The Grammy Award-winning pop star details her ...  \n",
       "4   The author of “American Carnage” looks at divi...  \n",
       "5   The late actor, known for playing Chandler Bin...  \n",
       "6   A Peabody and Emmy award-winning journalist un...  \n",
       "7   The author of “The Code Breaker” traces Musk’s...  \n",
       "8   A technology entrepreneur describes three eras...  \n",
       "9   An overview of Black Republicanism from the ti...  \n",
       "10  A hospice nurse shares some of her most impact...  \n",
       "11  An account of former President Trump’s attempt...  \n",
       "12  A Black physician details systemic barriers an...  \n",
       "13  The actress and filmmaker describes her eating...  \n",
       "14  Stories, essays and photographs exploring race...  "
      ]
     },
     "execution_count": 150,
     "metadata": {},
     "output_type": "execute_result"
    }
   ],
   "source": [
    "nybs_df"
   ]
  },
  {
   "cell_type": "markdown",
   "metadata": {},
   "source": [
    "## Scraping US Presidents"
   ]
  },
  {
   "cell_type": "code",
   "execution_count": 151,
   "metadata": {},
   "outputs": [],
   "source": [
    "url = \"https://en.wikipedia.org/wiki/List_of_presidents_of_the_United_States\"\n",
    "response = requests.get(url)\n",
    "soup = BeautifulSoup(response.content)"
   ]
  },
  {
   "cell_type": "code",
   "execution_count": 152,
   "metadata": {},
   "outputs": [
    {
     "data": {
      "text/plain": [
       "200"
      ]
     },
     "execution_count": 152,
     "metadata": {},
     "output_type": "execute_result"
    }
   ],
   "source": [
    "response.status_code"
   ]
  },
  {
   "cell_type": "code",
   "execution_count": 160,
   "metadata": {},
   "outputs": [
    {
     "data": {
      "text/plain": [
       "'/wiki/George_Washington'"
      ]
     },
     "execution_count": 160,
     "metadata": {},
     "output_type": "execute_result"
    }
   ],
   "source": [
    "soup.select(\"td b a\")[0][\"href\"]"
   ]
  },
  {
   "cell_type": "code",
   "execution_count": 161,
   "metadata": {
    "collapsed": true
   },
   "outputs": [
    {
     "data": {
      "text/plain": [
       "['/wiki/George_Washington',\n",
       " '/wiki/John_Adams',\n",
       " '/wiki/Thomas_Jefferson',\n",
       " '/wiki/James_Madison',\n",
       " '/wiki/James_Monroe',\n",
       " '/wiki/John_Quincy_Adams',\n",
       " '/wiki/Andrew_Jackson',\n",
       " '/wiki/Martin_Van_Buren',\n",
       " '/wiki/William_Henry_Harrison',\n",
       " '/wiki/John_Tyler',\n",
       " '/wiki/James_K._Polk',\n",
       " '/wiki/Zachary_Taylor',\n",
       " '/wiki/Millard_Fillmore',\n",
       " '/wiki/Franklin_Pierce',\n",
       " '/wiki/James_Buchanan',\n",
       " '/wiki/Abraham_Lincoln',\n",
       " '/wiki/Andrew_Johnson',\n",
       " '/wiki/Ulysses_S._Grant',\n",
       " '/wiki/Rutherford_B._Hayes',\n",
       " '/wiki/James_A._Garfield',\n",
       " '/wiki/Chester_A._Arthur',\n",
       " '/wiki/Grover_Cleveland',\n",
       " '/wiki/Benjamin_Harrison',\n",
       " '/wiki/Grover_Cleveland',\n",
       " '/wiki/William_McKinley',\n",
       " '/wiki/Theodore_Roosevelt',\n",
       " '/wiki/William_Howard_Taft',\n",
       " '/wiki/Woodrow_Wilson',\n",
       " '/wiki/Warren_G._Harding',\n",
       " '/wiki/Calvin_Coolidge',\n",
       " '/wiki/Herbert_Hoover',\n",
       " '/wiki/Franklin_D._Roosevelt',\n",
       " '/wiki/Harry_S._Truman',\n",
       " '/wiki/Dwight_D._Eisenhower',\n",
       " '/wiki/John_F._Kennedy',\n",
       " '/wiki/Lyndon_B._Johnson',\n",
       " '/wiki/Richard_Nixon',\n",
       " '/wiki/Gerald_Ford',\n",
       " '/wiki/Jimmy_Carter',\n",
       " '/wiki/Ronald_Reagan',\n",
       " '/wiki/George_H._W._Bush',\n",
       " '/wiki/Bill_Clinton',\n",
       " '/wiki/George_W._Bush',\n",
       " '/wiki/Barack_Obama',\n",
       " '/wiki/Donald_Trump',\n",
       " '/wiki/Joe_Biden']"
      ]
     },
     "execution_count": 161,
     "metadata": {},
     "output_type": "execute_result"
    }
   ],
   "source": [
    "presidents_href = []\n",
    "for item in soup.select(\"td b a\"):\n",
    "    presidents_href.append(item[\"href\"])\n",
    "presidents_href"
   ]
  },
  {
   "cell_type": "code",
   "execution_count": 163,
   "metadata": {},
   "outputs": [
    {
     "data": {
      "text/plain": [
       "<Response [200]>"
      ]
     },
     "execution_count": 163,
     "metadata": {},
     "output_type": "execute_result"
    }
   ],
   "source": [
    "name = []\n",
    "political_party = []\n",
    "number_of_c = []\n",
    "occupation = []\n",
    "for prez in presidents_href:\n",
    "    url = \"https://en.wikipedia.org\"+prez\n",
    "    response = requests.get(url)\n",
    "    soup = BeautifulSoup(response.content)\n",
    "    # your code goes here\n",
    "\n",
    "prez_dict = {\"name\":name\n",
    "             ,\"party\":political_party\n",
    "             ,\"children\":number_of_c\n",
    "            \"occupation\":occupation}\n",
    "\n",
    "prez_dict = pd.DatFrame(prez_dict)\n",
    "prez_dict.head()\n",
    "\n"
   ]
  },
  {
   "cell_type": "markdown",
   "metadata": {},
   "source": [
    "Create a Dataframe of US Presidents with columns:\n",
    "- Name of President\n",
    "- Political Party\n",
    "- Number of Children\n",
    "- Occupation"
   ]
  },
  {
   "cell_type": "code",
   "execution_count": 166,
   "metadata": {},
   "outputs": [],
   "source": [
    "url = \"https://en.wikipedia.org/wiki/George_Washington\"\n",
    "response = requests.get(url)\n",
    "soup = BeautifulSoup(response.content)"
   ]
  },
  {
   "cell_type": "code",
   "execution_count": 171,
   "metadata": {},
   "outputs": [
    {
     "data": {
      "text/plain": [
       "'Independent'"
      ]
     },
     "execution_count": 171,
     "metadata": {},
     "output_type": "execute_result"
    }
   ],
   "source": [
    "soup.find(\"th\", string = \"Political party\").parent.find(\"a\").get_text()"
   ]
  },
  {
   "cell_type": "code",
   "execution_count": 174,
   "metadata": {
    "collapsed": true
   },
   "outputs": [
    {
     "name": "stdout",
     "output_type": "stream",
     "text": [
      "200\n",
      "200\n",
      "200\n",
      "200\n",
      "200\n",
      "200\n",
      "200\n",
      "200\n",
      "200\n",
      "200\n",
      "200\n",
      "200\n",
      "200\n",
      "200\n",
      "200\n",
      "200\n",
      "200\n",
      "200\n",
      "200\n",
      "200\n",
      "200\n",
      "200\n",
      "200\n",
      "200\n",
      "200\n",
      "200\n",
      "200\n",
      "200\n",
      "200\n",
      "200\n",
      "200\n",
      "200\n",
      "200\n",
      "200\n",
      "200\n",
      "200\n",
      "200\n",
      "200\n",
      "200\n",
      "200\n",
      "200\n",
      "200\n",
      "200\n",
      "200\n",
      "200\n",
      "200\n"
     ]
    }
   ],
   "source": [
    "president_soups = []\n",
    "for i in presidents_href:\n",
    "    url = \"https://en.wikipedia.org\"+i\n",
    "    response = requests.get(url)\n",
    "    print(response.status_code)\n",
    "    soup = BeautifulSoup(response.content)\n",
    "    president_soups.append(soup)"
   ]
  },
  {
   "cell_type": "code",
   "execution_count": 175,
   "metadata": {},
   "outputs": [
    {
     "data": {
      "text/plain": [
       "[<div class=\"fn\" style=\"font-size:125%;\">Joe Biden</div>]"
      ]
     },
     "execution_count": 175,
     "metadata": {},
     "output_type": "execute_result"
    }
   ],
   "source": [
    "soup.select(\"div.fn\")"
   ]
  },
  {
   "cell_type": "code",
   "execution_count": 180,
   "metadata": {},
   "outputs": [
    {
     "name": "stdout",
     "output_type": "stream",
     "text": [
      "['George Washington', 'John Adams', 'Thomas Jefferson', 'James Madison', 'James Monroe', 'John Quincy Adams', 'Andrew Jackson', 'Martin Van Buren', 'William Henry Harrison', 'John Tyler', 'James K. Polk', 'Zachary Taylor', 'Millard Fillmore', 'Franklin Pierce', 'James Buchanan', 'Abraham Lincoln', 'Andrew Johnson', 'Ulysses S. Grant', 'Rutherford B. Hayes', 'James A. Garfield', 'Chester A. Arthur', 'Grover Cleveland', 'Benjamin Harrison', 'Grover Cleveland', 'William McKinley', 'Theodore Roosevelt', 'William Howard Taft', 'Woodrow Wilson', 'Warren G. Harding', 'Calvin Coolidge', 'Herbert Hoover', 'Franklin D. Roosevelt', 'Harry S. Truman', 'Dwight D. Eisenhower', 'John F. Kennedy', 'Lyndon B. Johnson', 'Richard Nixon', 'Gerald Ford', 'Jimmy Carter', 'Ronald Reagan', 'George H. W. Bush', 'Bill Clinton', 'George W. Bush', 'Barack Obama', 'Donald Trump', 'Joe Biden'] 46\n"
     ]
    }
   ],
   "source": [
    "name = []\n",
    "for soup in president_soups:\n",
    "    name.append(soup.select(\"div.fn\")[0].get_text())\n",
    "print(name, len(name))"
   ]
  },
  {
   "cell_type": "code",
   "execution_count": 189,
   "metadata": {},
   "outputs": [
    {
     "name": "stdout",
     "output_type": "stream",
     "text": [
      "46\n"
     ]
    }
   ],
   "source": [
    "party = []\n",
    "for soup in president_soups:\n",
    "    party.append(soup.find(\"th\", string = \"Political party\").parent.find(\"a\").get_text())\n",
    "party\n",
    "print(len(party))"
   ]
  },
  {
   "cell_type": "code",
   "execution_count": 195,
   "metadata": {},
   "outputs": [
    {
     "name": "stdout",
     "output_type": "stream",
     "text": [
      "46\n"
     ]
    }
   ],
   "source": [
    "children = []\n",
    "for soup in president_soups:\n",
    "    try:\n",
    "        children.append(soup.find(\"th\", string = \"Children\").parent.find(\"td\").get_text(strip=True))\n",
    "    except:\n",
    "        children.append(0)\n",
    "print(len(children))"
   ]
  },
  {
   "cell_type": "code",
   "execution_count": 196,
   "metadata": {
    "collapsed": true
   },
   "outputs": [
    {
     "data": {
      "text/plain": [
       "[0,\n",
       " '6, includingAbigail,John Quincy,Charles, andThomas',\n",
       " '6 with Martha Wayles, including:Martha Jefferson RandolphMary Jefferson EppesUp to 6 withSally Hemings,[a]including:Madison HemingsEston Hemings',\n",
       " 0,\n",
       " '3, includingElizaandMaria',\n",
       " '4, includingGeorge,John IIandCharles',\n",
       " '2, includingLyncoya',\n",
       " '5, includingAbraham IIandJohn',\n",
       " '10, includingJohn',\n",
       " '15',\n",
       " 0,\n",
       " '6, includingSarah,Mary, andRichard',\n",
       " 'MillardMary',\n",
       " '3',\n",
       " 0,\n",
       " 'RobertEdwardWillieTad',\n",
       " 'MarthaCharlesMaryRobertAndrew Jr.',\n",
       " 'FrederickUlysses Jr.NellieJesse II',\n",
       " '8, includingWebb C. HayesandRutherford P. Hayes',\n",
       " '7, includingHal,James,andAbram',\n",
       " 'WilliamChester IIEllen',\n",
       " '6, includingRuth,Esther,Richard, andFrancis',\n",
       " 'RussellMaryElizabeth',\n",
       " '6, includingRuth,Esther,Richard, andFrancis',\n",
       " '2',\n",
       " 0,\n",
       " 'RobertHelenCharles II',\n",
       " 'MargaretJessieEleanor',\n",
       " 'Elizabeth(withNan Britton)',\n",
       " '2, includingJohn',\n",
       " 'Herbert Jr.Allan',\n",
       " 0,\n",
       " 'Margaret',\n",
       " 'DoudJohn',\n",
       " '4, includingCaroline,John\\xa0Jr., andPatrick',\n",
       " 'LyndaLuci',\n",
       " 'TriciaJulie',\n",
       " 'MichaelJackStevenSusan',\n",
       " '4, includingJackandAmy',\n",
       " '5, includingMaureen,Michael,Patti, andRon',\n",
       " 'GeorgeRobinJebNeilMarvinDorothy',\n",
       " 'Chelsea Clinton',\n",
       " 'BarbaraJenna',\n",
       " 'MaliaSasha',\n",
       " 'Donald Jr.IvankaEricTiffanyBarron',\n",
       " 'BeauHunterNaomiAshley']"
      ]
     },
     "execution_count": 196,
     "metadata": {},
     "output_type": "execute_result"
    }
   ],
   "source": [
    "children"
   ]
  },
  {
   "cell_type": "code",
   "execution_count": 203,
   "metadata": {},
   "outputs": [
    {
     "data": {
      "text/plain": [
       "[<ul><li>Politician</li>\n",
       " <li>lawyer</li>\n",
       " <li>author</li></ul>]"
      ]
     },
     "execution_count": 203,
     "metadata": {},
     "output_type": "execute_result"
    }
   ],
   "source": [
    "soup.find(\"th\", string = \"Occupation\").parent.select(\"ul\")"
   ]
  },
  {
   "cell_type": "code",
   "execution_count": 204,
   "metadata": {},
   "outputs": [
    {
     "data": {
      "text/plain": [
       "['Politician', 'lawyer', 'author']"
      ]
     },
     "execution_count": 204,
     "metadata": {},
     "output_type": "execute_result"
    }
   ],
   "source": [
    "prez_occ = []\n",
    "for job in soup.find(\"th\", string = \"Occupation\").parent.select(\"li\"):\n",
    "    prez_occ.append(job.get_text(strip=True))\n",
    "prez_occ\n"
   ]
  },
  {
   "cell_type": "code",
   "execution_count": 205,
   "metadata": {},
   "outputs": [
    {
     "name": "stdout",
     "output_type": "stream",
     "text": [
      "46\n"
     ]
    }
   ],
   "source": [
    "occupation = []\n",
    "for soup in president_soups:\n",
    "    try:\n",
    "        prez_occ = []\n",
    "        for job in soup.find(\"th\", string = \"Occupation\").parent.select(\"li\"):\n",
    "            prez_occ.append(job.get_text(strip=True))\n",
    "        occupation.append(prez_occ)\n",
    "    except:\n",
    "        occupation.append(\"President\")\n",
    "print(len(occupation))"
   ]
  },
  {
   "cell_type": "code",
   "execution_count": 206,
   "metadata": {},
   "outputs": [
    {
     "data": {
      "text/plain": [
       "[['Planter', 'military officer', 'statesman', 'surveyor'],\n",
       " ['Politician', 'lawyer'],\n",
       " ['Politician', 'lawyer'],\n",
       " 'President',\n",
       " ['Politician', 'lawyer'],\n",
       " ['Politician', 'lawyer'],\n",
       " ['Politician', 'lawyer', 'general'],\n",
       " ['Politician', 'lawyer'],\n",
       " ['Soldier', 'politician'],\n",
       " 'President',\n",
       " ['Politician', 'lawyer'],\n",
       " 'President',\n",
       " ['Politician', 'lawyer'],\n",
       " 'President',\n",
       " ['Politician', 'lawyer'],\n",
       " ['Politician', 'lawyer'],\n",
       " 'President',\n",
       " ['Military officer', 'politician'],\n",
       " ['Politician', 'lawyer'],\n",
       " ['Politician', 'lawyer', 'amateur mathematician'],\n",
       " 'President',\n",
       " ['Politician', 'lawyer'],\n",
       " ['Politician', 'lawyer'],\n",
       " ['Politician', 'lawyer'],\n",
       " 'President',\n",
       " ['Author',\n",
       "  'conservationist',\n",
       "  'explorer',\n",
       "  'historian',\n",
       "  'naturalist',\n",
       "  'police commissioner',\n",
       "  'politician',\n",
       "  'soldier'],\n",
       " ['Politician', 'lawyer'],\n",
       " ['Academic', 'politician'],\n",
       " ['Journalist', 'politician'],\n",
       " ['Politician', 'lawyer'],\n",
       " 'President',\n",
       " 'President',\n",
       " ['Farmer', 'haberdasher', 'politician'],\n",
       " ['Military officer', 'politician'],\n",
       " 'President',\n",
       " ['Politician', 'teacher'],\n",
       " ['Author', 'lawyer', 'politician'],\n",
       " ['Politician', 'lawyer'],\n",
       " 'President',\n",
       " ['Actor', 'politician', 'sports broadcaster', 'union leader'],\n",
       " ['Businessman', 'diplomat', 'politician'],\n",
       " 'President',\n",
       " ['Politician', 'businessman'],\n",
       " ['Politician', 'lawyer', 'author'],\n",
       " ['Politician', 'businessman', 'media personality'],\n",
       " ['Politician', 'lawyer', 'author']]"
      ]
     },
     "execution_count": 206,
     "metadata": {},
     "output_type": "execute_result"
    }
   ],
   "source": [
    "occupation"
   ]
  },
  {
   "cell_type": "code",
   "execution_count": null,
   "metadata": {},
   "outputs": [],
   "source": [
    "name = []\n",
    "party = []\n",
    "occupation = []\n",
    "children = []\n",
    "for soup in president_soups:\n",
    "    name.append(soup.select(\"div.fn\"))\n",
    "    party.append()\n",
    "    occupation.append()\n",
    "    children.append()"
   ]
  }
 ],
 "metadata": {
  "colab": {
   "name": "Web Scraping Code Along.ipynb",
   "provenance": [],
   "toc_visible": true
  },
  "kernelspec": {
   "display_name": "Python 3 (ipykernel)",
   "language": "python",
   "name": "python3"
  },
  "language_info": {
   "codemirror_mode": {
    "name": "ipython",
    "version": 3
   },
   "file_extension": ".py",
   "mimetype": "text/x-python",
   "name": "python",
   "nbconvert_exporter": "python",
   "pygments_lexer": "ipython3",
   "version": "3.9.17"
  },
  "toc": {
   "base_numbering": 1,
   "nav_menu": {},
   "number_sections": true,
   "sideBar": true,
   "skip_h1_title": false,
   "title_cell": "Table of Contents",
   "title_sidebar": "Contents",
   "toc_cell": false,
   "toc_position": {},
   "toc_section_display": true,
   "toc_window_display": false
  },
  "varInspector": {
   "cols": {
    "lenName": 16,
    "lenType": 16,
    "lenVar": 40
   },
   "kernels_config": {
    "python": {
     "delete_cmd_postfix": "",
     "delete_cmd_prefix": "del ",
     "library": "var_list.py",
     "varRefreshCmd": "print(var_dic_list())"
    },
    "r": {
     "delete_cmd_postfix": ") ",
     "delete_cmd_prefix": "rm(",
     "library": "var_list.r",
     "varRefreshCmd": "cat(var_dic_list()) "
    }
   },
   "types_to_exclude": [
    "module",
    "function",
    "builtin_function_or_method",
    "instance",
    "_Feature"
   ],
   "window_display": false
  }
 },
 "nbformat": 4,
 "nbformat_minor": 1
}
